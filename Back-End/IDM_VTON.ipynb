{
 "cells": [
  {
   "cell_type": "code",
   "execution_count": null,
   "metadata": {
    "trusted": true
   },
   "outputs": [],
   "source": [
    "!yes | apt-get update --allow-releaseinfo-change\n",
    "!yes | apt install libgoogle-perftools-dev\n",
    "!git clone https://github.com/Ashx111/IDM-VTON\n",
    "%cd IDM-VTON"
   ]
  },
  {
   "cell_type": "code",
   "execution_count": null,
   "metadata": {
    "trusted": true
   },
   "outputs": [],
   "source": [
    "# Step 1: Install from the requirements file\n",
    "print(\"--- Installing from requirements.txt ---\")\n",
    "!pip install -r requirements.txt -q\n",
    "print(\"--- requirements.txt install complete ---\")\n",
    "\n",
    "# Step 2: Install Torch, Torchvision, Torchaudio for CUDA 11.8\n",
    "print(\"--- Installing Torch/Torchvision/Torchaudio (cu118) ---\")\n",
    "!pip install torch==2.2.0 torchvision==0.17.0 torchaudio --index-url https://download.pytorch.org/whl/cu118 -q --force-reinstall\n",
    "print(\"--- Torch/Torchvision/Torchaudio install complete ---\")\n",
    "\n",
    "# Step 3: Install Xformers (matching torch 2.2.0)\n",
    "print(\"--- Installing Xformers ---\")\n",
    "!pip install xformers==0.0.24 -q\n",
    "print(\"--- Xformers install complete ---\")\n",
    "\n",
    "# Step 4: Final Verification\n",
    "print(\"\\n--- Verifying key package versions ---\")\n",
    "!pip show diffusers huggingface_hub gradio gradio_client peft torch torchvision torchaudio xformers numpy pandas\n",
    "print(\"------------------------------------\\n\")\n",
    "print(\"\\n--- Checking Environment Health ---\")\n",
    "!pip check\n",
    "print(\"-----------------------------------\\n\")"
   ]
  },
  {
   "cell_type": "code",
   "execution_count": null,
   "metadata": {
    "trusted": true
   },
   "outputs": [],
   "source": [
    "!pip uninstall -y numpy\n",
    "!pip install \"numpy<2.0\"  # Specifically install a NumPy 1.x version\n",
    "!pip install --upgrade pandas # It's good practice to upgrade pandas too."
   ]
  },
  {
   "cell_type": "code",
   "execution_count": null,
   "metadata": {
    "trusted": true
   },
   "outputs": [],
   "source": [
    "!pip install pyngrok\n",
    "from pyngrok import ngrok\n",
    "\n",
    "# Check the output of the previous cell to confirm the Gradio port\n",
    "gradio_port = 7860  # Or the port your Gradio app is running on\n",
    "\n",
    "# Optional: Set your ngrok authtoken for more stable tunnels\n",
    "ngrok.set_auth_token(\"YOUR_NGROQ_API_KEY\")\n",
    "\n",
    "try:\n",
    "    public_url = ngrok.connect(gradio_port)\n",
    "    print(f\"Gradio interface is available at: {public_url}\")\n",
    "except Exception as e:\n",
    "    print(f\"Error connecting to ngrok: {e}\")"
   ]
  },
  {
   "cell_type": "code",
   "execution_count": null,
   "metadata": {
    "trusted": true
   },
   "outputs": [],
   "source": [
    "!python app_VTON.py --load_mode 8bit"
   ]
  },
  {
   "cell_type": "code",
   "execution_count": null,
   "metadata": {
    "trusted": true
   },
   "outputs": [],
   "source": [
    "# %cd /kaggle/working\n",
    "# !rm -rf IDM-VTON\n",
    "# !git clone https://github.com/Ashx111/IDM-VTON\n",
    "# %cd IDM-VTON"
   ]
  }
 ],
 "metadata": {
  "kaggle": {
   "accelerator": "nvidiaTeslaT4",
   "dataSources": [],
   "dockerImageVersionId": 30919,
   "isGpuEnabled": true,
   "isInternetEnabled": true,
   "language": "python",
   "sourceType": "notebook"
  },
  "kernelspec": {
   "display_name": "Python 3",
   "language": "python",
   "name": "python3"
  },
  "language_info": {
   "codemirror_mode": {
    "name": "ipython",
    "version": 3
   },
   "file_extension": ".py",
   "mimetype": "text/x-python",
   "name": "python",
   "nbconvert_exporter": "python",
   "pygments_lexer": "ipython3",
   "version": "3.10.12"
  }
 },
 "nbformat": 4,
 "nbformat_minor": 4
}
